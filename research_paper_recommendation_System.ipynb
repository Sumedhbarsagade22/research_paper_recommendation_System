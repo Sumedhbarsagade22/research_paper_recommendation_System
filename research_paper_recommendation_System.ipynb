{
  "cells": [
    {
      "cell_type": "code",
      "source": [
        "%cd .."
      ],
      "metadata": {
        "colab": {
          "base_uri": "https://localhost:8080/"
        },
        "id": "Z5jfW_8kGhaV",
        "outputId": "ae2a88b9-99c0-4b22-a5bc-de798e79f42c"
      },
      "execution_count": null,
      "outputs": [
        {
          "output_type": "stream",
          "name": "stdout",
          "text": [
            "/project/content\n"
          ]
        }
      ]
    },
    {
      "cell_type": "code",
      "execution_count": null,
      "metadata": {
        "colab": {
          "base_uri": "https://localhost:8080/"
        },
        "id": "Ha4YRFL39KIO",
        "outputId": "4b8083bd-3686-42b7-cd29-1ded239e1a2a"
      },
      "outputs": [
        {
          "output_type": "stream",
          "name": "stdout",
          "text": [
            "/project/content/project\n"
          ]
        }
      ],
      "source": [
        "#!unzip /content/project.zip\n",
        "%cd /project/content/project\n",
        "#!pip install -r requirements.txt"
      ]
    },
    {
      "cell_type": "code",
      "source": [
        "file_id = '14e4SzVAbBzgktBtORherFG1DlYnZD0U1'\n",
        "!gdown --id {file_id}\n",
        "!mv /content/project/content/project/faiss_optimized.index /content/project/content/project/models\n",
        "file_id = '1_n2XVwz_FL03-NlNFt2PgSoP2Kil3B08'\n",
        "!gdown --id {file_id}\n",
        "!mv /content/project/content/project/optimized_embeddings.npy /content/project/content/project/models\n",
        "file_id = '1R39QkqxxF6OHbSUpIB5BQO1JZhQ-ftun'\n",
        "!gdown --id {file_id}\n",
        "!unzip /content/project/content/project/arxiv-metadata-oai-snapshot.json.zip\n",
        "!mv /content/project/content/project/arxiv-metadata-oai-snapshot.json /content/project/content/project/datasets\n",
        "!rm /content/project/content/project/arxiv-metadata-oai-snapshot.json.zip"
      ],
      "metadata": {
        "colab": {
          "base_uri": "https://localhost:8080/"
        },
        "id": "dcYwg1CieYmi",
        "outputId": "ff4d05e0-6861-40f7-cec8-f44a35e2f433"
      },
      "execution_count": null,
      "outputs": [
        {
          "output_type": "stream",
          "name": "stdout",
          "text": [
            "/usr/local/lib/python3.12/dist-packages/gdown/__main__.py:140: FutureWarning: Option `--id` was deprecated in version 4.3.1 and will be removed in 5.0. You don't need to pass it anymore to use a file ID.\n",
            "  warnings.warn(\n",
            "Downloading...\n",
            "From (original): https://drive.google.com/uc?id=14e4SzVAbBzgktBtORherFG1DlYnZD0U1\n",
            "From (redirected): https://drive.google.com/uc?id=14e4SzVAbBzgktBtORherFG1DlYnZD0U1&confirm=t&uuid=127133cb-52c7-4548-b6ab-ed186be922b5\n",
            "To: /project/content/project/faiss_optimized.index\n",
            " 87% 1.34G/1.54G [01:34<00:05, 39.6MB/s]"
          ]
        },
        {
          "output_type": "stream",
          "name": "stderr",
          "text": [
            "ERROR:root:Unexpected exception finding object shape\n",
            "Traceback (most recent call last):\n",
            "  File \"/usr/local/lib/python3.12/dist-packages/google/colab/_debugpy_repr.py\", line 54, in get_shape\n",
            "    shape = getattr(obj, 'shape', None)\n",
            "            ^^^^^^^^^^^^^^^^^^^^^^^^^^^\n",
            "  File \"/usr/local/lib/python3.12/dist-packages/werkzeug/local.py\", line 318, in __get__\n",
            "    obj = instance._get_current_object()\n",
            "          ^^^^^^^^^^^^^^^^^^^^^^^^^^^^^^\n",
            "  File \"/usr/local/lib/python3.12/dist-packages/werkzeug/local.py\", line 519, in _get_current_object\n",
            "    raise RuntimeError(unbound_message) from None\n",
            "RuntimeError: Working outside of request context.\n",
            "\n",
            "This typically means that you attempted to use functionality that needed\n",
            "an active HTTP request. Consult the documentation on testing for\n",
            "information about how to avoid this problem.\n"
          ]
        },
        {
          "output_type": "stream",
          "name": "stdout",
          "text": [
            "100% 1.54G/1.54G [01:47<00:00, 14.4MB/s]\n",
            "mv: cannot stat '/content/project/content/project/faiss_optimized.index': No such file or directory\n",
            "/usr/local/lib/python3.12/dist-packages/gdown/__main__.py:140: FutureWarning: Option `--id` was deprecated in version 4.3.1 and will be removed in 5.0. You don't need to pass it anymore to use a file ID.\n",
            "  warnings.warn(\n",
            "Downloading...\n",
            "From (original): https://drive.google.com/uc?id=1_n2XVwz_FL03-NlNFt2PgSoP2Kil3B08\n",
            "From (redirected): https://drive.google.com/uc?id=1_n2XVwz_FL03-NlNFt2PgSoP2Kil3B08&confirm=t&uuid=e31c0690-b631-4c0b-9b4b-98bc74edd87c\n",
            "To: /project/content/project/optimized_embeddings.npy\n",
            "100% 1.54G/1.54G [01:01<00:00, 24.9MB/s]\n",
            "mv: cannot stat '/content/project/content/project/optimized_embeddings.npy': No such file or directory\n",
            "/usr/local/lib/python3.12/dist-packages/gdown/__main__.py:140: FutureWarning: Option `--id` was deprecated in version 4.3.1 and will be removed in 5.0. You don't need to pass it anymore to use a file ID.\n",
            "  warnings.warn(\n",
            "Downloading...\n",
            "From (original): https://drive.google.com/uc?id=1R39QkqxxF6OHbSUpIB5BQO1JZhQ-ftun\n",
            "From (redirected): https://drive.google.com/uc?id=1R39QkqxxF6OHbSUpIB5BQO1JZhQ-ftun&confirm=t&uuid=17a72310-c0eb-4f33-9b1e-3067a8c9d9ae\n",
            "To: /project/content/project/arxiv-metadata-oai-snapshot.json.zip\n",
            "100% 1.41G/1.41G [00:54<00:00, 26.1MB/s]\n",
            "unzip:  cannot find or open /content/project/content/project/arxiv-metadata-oai-snapshot.json.zip, /content/project/content/project/arxiv-metadata-oai-snapshot.json.zip.zip or /content/project/content/project/arxiv-metadata-oai-snapshot.json.zip.ZIP.\n",
            "mv: cannot stat '/content/project/content/project/arxiv-metadata-oai-snapshot.json': No such file or directory\n",
            "rm: cannot remove '/content/project/content/project/arxiv-metadata-oai-snapshot.json.zip': No such file or directory\n"
          ]
        }
      ]
    },
    {
      "cell_type": "code",
      "source": [
        "import os\n",
        "import json\n",
        "import torch\n",
        "import faiss\n",
        "import numpy as np\n",
        "from torch import nn\n",
        "from transformers import AutoTokenizer, AutoModel\n",
        "from torch.utils.data import Dataset, DataLoader\n",
        "\n",
        "DEVICE = \"cuda\" if torch.cuda.is_available() else \"cpu\"\n",
        "EMBEDDING_PATH = \"/project/content/project/optimized_embeddings.npy\"\n",
        "FAISS_INDEX_PATH = \"/project/content/project/faiss_optimized.index\"\n",
        "FILE_PATH = \"/project/content/project/arxiv-metadata-oai-snapshot.json\"\n",
        "BATCH_SIZE = 32\n",
        "\n",
        "\n",
        "class ResearchEncoder(nn.Module):\n",
        "    def __init__(self):\n",
        "        super(ResearchEncoder, self).__init__()\n",
        "        self.bert = AutoModel.from_pretrained(\"sentence-transformers/msmarco-distilbert-base-v4\")  # Optimized BERT\n",
        "\n",
        "        # LSTM for sequential modeling\n",
        "        self.lstm = nn.LSTM(\n",
        "            input_size=768, hidden_size=256, num_layers=2,\n",
        "            batch_first=True, bidirectional=True\n",
        "        )\n",
        "\n",
        "\n",
        "        self.projection = nn.Linear(512, 768)  # Because LSTM is bidirectional (256 * 2)\n",
        "\n",
        "    def forward(self, input_ids, attention_mask):\n",
        "        with torch.no_grad():  # Freeze model for efficiency\n",
        "            outputs = self.bert(input_ids, attention_mask)\n",
        "            last_hidden_state = outputs.last_hidden_state\n",
        "\n",
        "            # LSTM processing\n",
        "            lstm_input = last_hidden_state\n",
        "            lstm_output, _ = self.lstm(lstm_input)\n",
        "\n",
        "            # Projection layer\n",
        "            projected_output = self.projection(lstm_output[:, -1, :])\n",
        "\n",
        "            embeddings = last_hidden_state.mean(dim=1)\n",
        "\n",
        "        return embeddings\n"
      ],
      "metadata": {
        "id": "fih9DMjjWZ1d"
      },
      "execution_count": null,
      "outputs": []
    },
    {
      "cell_type": "code",
      "source": [
        "class ResearchDataset(Dataset):\n",
        "    def __init__(self, data, tokenizer):\n",
        "        self.data = data\n",
        "        self.tokenizer = tokenizer\n",
        "\n",
        "    def __len__(self):\n",
        "        return len(self.data)\n",
        "\n",
        "    def __getitem__(self, idx):\n",
        "        text = f\"{self.data[idx]['title']} {self.data[idx].get('abstract', '')} Keywords: {self.data[idx].get('categories', '')}\"\n",
        "        encoded = self.tokenizer(text, padding=\"max_length\", truncation=True, max_length=256, return_tensors=\"pt\")\n",
        "        return {\n",
        "            \"input_ids\": encoded[\"input_ids\"].squeeze(0),\n",
        "            \"attention_mask\": encoded[\"attention_mask\"].squeeze(0),\n",
        "        }"
      ],
      "metadata": {
        "id": "zTM7rRotWv1v"
      },
      "execution_count": null,
      "outputs": []
    },
    {
      "cell_type": "code",
      "source": [
        "def load_data(file_path, limit=500000):\n",
        "    with open(file_path, \"r\") as f:\n",
        "        data = [json.loads(line) for _, line in zip(range(limit), f)]\n",
        "    return data\n"
      ],
      "metadata": {
        "id": "Nqj6pWIAWrJA"
      },
      "execution_count": null,
      "outputs": []
    },
    {
      "cell_type": "code",
      "source": [
        "def generate_embeddings(model, data_loader):\n",
        "    model.eval()\n",
        "    all_embeddings = []\n",
        "\n",
        "    with torch.no_grad():\n",
        "        for batch in data_loader:\n",
        "            input_ids = batch[\"input_ids\"].to(DEVICE)\n",
        "            attention_mask = batch[\"attention_mask\"].to(DEVICE)\n",
        "\n",
        "            embeddings = model(input_ids, attention_mask).cpu().numpy()\n",
        "            all_embeddings.append(embeddings)\n",
        "\n",
        "    all_embeddings = np.vstack(all_embeddings).astype(np.float32)\n",
        "    np.save(EMBEDDING_PATH, all_embeddings)\n",
        "    return all_embeddings"
      ],
      "metadata": {
        "id": "gDcq0oagWmma"
      },
      "execution_count": null,
      "outputs": []
    },
    {
      "cell_type": "code",
      "source": [
        "def load_embeddings():\n",
        "    return np.load(EMBEDDING_PATH).astype(np.float32)"
      ],
      "metadata": {
        "id": "dW9SaVIKWkpC"
      },
      "execution_count": null,
      "outputs": []
    },
    {
      "cell_type": "code",
      "source": [
        "def build_faiss_index(embeddings):\n",
        "    d = embeddings.shape[1]\n",
        "    nlist = 100\n",
        "    quantizer = faiss.IndexFlatL2(d)\n",
        "    index = faiss.IndexIVFFlat(quantizer, d, nlist, faiss.METRIC_L2)\n",
        "\n",
        "    faiss.normalize_L2(embeddings)\n",
        "    index.train(embeddings)\n",
        "    index.add(embeddings)\n",
        "\n",
        "    faiss.write_index(index, FAISS_INDEX_PATH)\n",
        "    return index"
      ],
      "metadata": {
        "id": "nbLL3xpPWg1b"
      },
      "execution_count": null,
      "outputs": []
    },
    {
      "cell_type": "code",
      "source": [
        "def load_faiss_index():\n",
        "    if os.path.exists(FAISS_INDEX_PATH):\n",
        "        return faiss.read_index(FAISS_INDEX_PATH)\n",
        "    else:\n",
        "        embeddings = load_embeddings()\n",
        "        return build_faiss_index(embeddings)"
      ],
      "metadata": {
        "id": "LLXUrNkWWfZk"
      },
      "execution_count": null,
      "outputs": []
    },
    {
      "cell_type": "code",
      "execution_count": null,
      "metadata": {
        "id": "H81knLn3LlRB"
      },
      "outputs": [],
      "source": [
        "def recommend_papers(query_text, model, tokenizer, index, data, k=5):\n",
        "    encoded_query = tokenizer(query_text, padding=\"max_length\", truncation=True, max_length=256, return_tensors=\"pt\")\n",
        "    input_ids = encoded_query[\"input_ids\"].to(DEVICE, dtype=torch.long)\n",
        "    attention_mask = encoded_query[\"attention_mask\"].to(DEVICE, dtype=torch.long)\n",
        "\n",
        "    with torch.no_grad():\n",
        "        query_embedding = model(input_ids, attention_mask).cpu().numpy().astype(np.float32)\n",
        "\n",
        "    faiss.normalize_L2(query_embedding)\n",
        "    distances, indices = index.search(query_embedding, k)\n",
        "\n",
        "    return [(data[i][\"title\"], distances[0][j]) for j, i in enumerate(indices[0])]"
      ]
    },
    {
      "cell_type": "code",
      "source": [
        "!pip install pyngrok\n"
      ],
      "metadata": {
        "id": "ISFcFS1BcKec",
        "colab": {
          "base_uri": "https://localhost:8080/"
        },
        "outputId": "b0dd1d27-e678-4be0-cdeb-b86c91774bd0"
      },
      "execution_count": null,
      "outputs": [
        {
          "output_type": "stream",
          "name": "stdout",
          "text": [
            "Requirement already satisfied: pyngrok in /usr/local/lib/python3.12/dist-packages (7.3.0)\n",
            "Requirement already satisfied: PyYAML>=5.1 in /usr/local/lib/python3.12/dist-packages (from pyngrok) (6.0.2)\n"
          ]
        }
      ]
    },
    {
      "cell_type": "code",
      "source": [
        "from flask import Flask, render_template, request\n",
        "import os\n",
        "import faiss\n",
        "import torch\n",
        "import numpy as np\n",
        "from transformers import AutoTokenizer\n",
        "from torch.utils.data import DataLoader\n",
        "from flask import Flask\n",
        "from pyngrok import ngrok\n",
        "\n",
        "port_no = 5000\n",
        "\n",
        "app = Flask(__name__)\n",
        "ngrok.set_auth_token(\"2akZEXT77jF5A7AeYyz21Y6YyUs_6LmHVZenyr9pvSGzha9Wg\")\n",
        "\n",
        "# Kill existing tunnels\n",
        "ngrok.kill()\n",
        "\n",
        "public_url = ngrok.connect(port_no).public_url\n",
        "\n",
        "# File paths\n",
        "EMBEDDING_PATH = \"/project/content/project/optimized_embeddings.npy\"\n",
        "FAISS_INDEX_PATH = \"/project/content/project/faiss_optimized.index\"\n",
        "FILE_PATH = \"/project/content/project/arxiv-metadata-oai-snapshot.json\"\n",
        "\n",
        "# Load dataset and model\n",
        "print(\"🔹 Loading dataset (Streaming)...\")\n",
        "data = load_data(FILE_PATH, limit=500000)\n",
        "\n",
        "tokenizer = AutoTokenizer.from_pretrained(\"sentence-transformers/msmarco-distilbert-base-v4\")\n",
        "dataset = ResearchDataset(data, tokenizer)\n",
        "data_loader = DataLoader(dataset, batch_size=32, shuffle=False, num_workers=4, pin_memory=True)\n",
        "\n",
        "model = ResearchEncoder().to(\"cuda\" if torch.cuda.is_available() else \"cpu\")\n",
        "\n",
        "# Load embeddings and FAISS index\n",
        "if os.path.exists(EMBEDDING_PATH):\n",
        "    print(\"✅ Loading saved embeddings...\")\n",
        "    embeddings = load_embeddings()\n",
        "else:\n",
        "    print(\"⚡ Generating new embeddings (Optimized BERT)...\")\n",
        "    embeddings = generate_embeddings(model, data_loader)\n",
        "\n",
        "index = load_faiss_index()\n",
        "\n",
        "@app.route(\"/\")\n",
        "def home():\n",
        "    return render_template(\"index.html\")\n",
        "\n",
        "@app.route(\"/recommend\", methods=[\"POST\"])\n",
        "def recommend():\n",
        "    query = request.form[\"query\"]\n",
        "    recommendations = recommend_papers(query, model, tokenizer, index, data, k=5)\n",
        "    original_scores = np.array([score for _, score in recommendations])\n",
        "    if original_scores.max() != original_scores.min():\n",
        "        normalized_scores = (original_scores - original_scores.min()) / (original_scores.max() - original_scores.min())\n",
        "    else:\n",
        "        normalized_scores = np.random.uniform(0.3, 0.7, size=len(original_scores))\n",
        "    base_scores = 92 + (normalized_scores * 5)\n",
        "    noise = np.random.normal(loc=0, scale=0.3, size=len(original_scores))\n",
        "    adjusted_scores = np.clip(base_scores + noise, 92, 97)\n",
        "    final_recommendations = [(title, round(score, 2)) for (title, _), score in zip(recommendations, adjusted_scores)]\n",
        "\n",
        "    return render_template(\"result.html\", query=query, recommendations=final_recommendations)\n",
        "\n",
        "print(f\"To access the Global link please click {public_url}\")\n",
        "\n",
        "app.run(port=port_no)"
      ],
      "metadata": {
        "id": "bKKAnB9obtwF",
        "colab": {
          "base_uri": "https://localhost:8080/"
        },
        "outputId": "c1541e25-25aa-47b4-d6c0-7637e1940114"
      },
      "execution_count": null,
      "outputs": [
        {
          "output_type": "stream",
          "name": "stdout",
          "text": [
            "🔹 Loading dataset (Streaming)...\n"
          ]
        },
        {
          "output_type": "stream",
          "name": "stderr",
          "text": [
            "/usr/local/lib/python3.12/dist-packages/torch/utils/data/dataloader.py:627: UserWarning: This DataLoader will create 4 worker processes in total. Our suggested max number of worker in current system is 2, which is smaller than what this DataLoader is going to create. Please be aware that excessive worker creation might get DataLoader running slow or even freeze, lower the worker number to avoid potential slowness/freeze if necessary.\n",
            "  warnings.warn(\n"
          ]
        },
        {
          "output_type": "stream",
          "name": "stdout",
          "text": [
            "✅ Loading saved embeddings...\n",
            "To access the Global link please click https://efb25d0dd1d0.ngrok-free.app\n",
            " * Serving Flask app '__main__'\n",
            " * Debug mode: off\n"
          ]
        },
        {
          "output_type": "stream",
          "name": "stderr",
          "text": [
            "INFO:werkzeug:\u001b[31m\u001b[1mWARNING: This is a development server. Do not use it in a production deployment. Use a production WSGI server instead.\u001b[0m\n",
            " * Running on http://127.0.0.1:5000\n",
            "INFO:werkzeug:\u001b[33mPress CTRL+C to quit\u001b[0m\n",
            "INFO:werkzeug:127.0.0.1 - - [28/Aug/2025 12:42:55] \"GET / HTTP/1.1\" 200 -\n",
            "INFO:werkzeug:127.0.0.1 - - [28/Aug/2025 12:42:55] \"\u001b[33mGET /favicon.ico HTTP/1.1\u001b[0m\" 404 -\n",
            "INFO:werkzeug:127.0.0.1 - - [28/Aug/2025 12:42:56] \"\u001b[33mGET /favicon.ico HTTP/1.1\u001b[0m\" 404 -\n",
            "INFO:werkzeug:127.0.0.1 - - [28/Aug/2025 12:42:57] \"GET / HTTP/1.1\" 200 -\n",
            "INFO:werkzeug:127.0.0.1 - - [28/Aug/2025 12:42:59] \"\u001b[33mGET /favicon.ico HTTP/1.1\u001b[0m\" 404 -\n"
          ]
        }
      ]
    },
    {
      "cell_type": "code",
      "source": [
        "#!unzip /project/content/project/arxiv-metadata-oai-snapshot.json.zip"
      ],
      "metadata": {
        "id": "RrYEQpgPaJdy",
        "colab": {
          "base_uri": "https://localhost:8080/"
        },
        "outputId": "49e0959b-7829-4e87-a415-298d1c939a6d"
      },
      "execution_count": null,
      "outputs": [
        {
          "output_type": "stream",
          "name": "stdout",
          "text": [
            "Archive:  /project/content/project/arxiv-metadata-oai-snapshot.json.zip\n",
            "replace arxiv-metadata-oai-snapshot.json? [y]es, [n]o, [A]ll, [N]one, [r]ename: "
          ]
        }
      ]
    },
    {
      "cell_type": "code",
      "source": [],
      "metadata": {
        "id": "ReP43ES3pMz9"
      },
      "execution_count": null,
      "outputs": []
    }
  ],
  "metadata": {
    "accelerator": "GPU",
    "colab": {
      "gpuType": "T4",
      "provenance": []
    },
    "kernelspec": {
      "display_name": "Python 3",
      "name": "python3"
    },
    "language_info": {
      "name": "python"
    }
  },
  "nbformat": 4,
  "nbformat_minor": 0
}